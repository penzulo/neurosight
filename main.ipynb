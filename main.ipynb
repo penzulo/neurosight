{
 "cells": [
  {
   "cell_type": "code",
   "execution_count": 3,
   "metadata": {},
   "outputs": [],
   "source": [
    "import os\n",
    "from tensorflow.keras.applications import ResNet50\n",
    "from tensorflow.keras.layers import Dense, Flatten, Dropout\n",
    "from tensorflow.keras.models import Model\n",
    "from tensorflow.keras.preprocessing.image import ImageDataGenerator\n",
    "from tensorflow.keras.callbacks import EarlyStopping, ReduceLROnPlateau\n",
    "from tensorflow.keras.optimizers import Adam"
   ]
  },
  {
   "cell_type": "code",
   "execution_count": 4,
   "metadata": {},
   "outputs": [],
   "source": [
    "# Parameters\n",
    "IMG_SIZE: tuple[int, int] = (256, 256)\n",
    "BATCH_SIZE: int = 16\n",
    "EPOCHS: int = 30\n",
    "BASE_DIR: str = \"./brain_scans\" # Root folder containing glioma, meningioma, and pituitary_tumor folders"
   ]
  },
  {
   "cell_type": "code",
   "execution_count": 6,
   "metadata": {},
   "outputs": [],
   "source": [
    "# Data Augmentation and Image Loading\n",
    "datagen = ImageDataGenerator(\n",
    "    rescale=1./255,\n",
    "    rotation_range=20,\n",
    "    width_shift_range=0.2,\n",
    "    height_shift_range=0.2,\n",
    "    shear_range=0.2,\n",
    "    zoom_range=0.2,\n",
    "    horizontal_flip=True,\n",
    "    fill_mode=\"nearest\",\n",
    "    validation_split=0.2 # 20% data for validation\n",
    ")"
   ]
  },
  {
   "cell_type": "code",
   "execution_count": 7,
   "metadata": {},
   "outputs": [
    {
     "name": "stdout",
     "output_type": "stream",
     "text": [
      "Found 2452 images belonging to 3 classes.\n"
     ]
    }
   ],
   "source": [
    "train_gen = datagen.flow_from_directory(\n",
    "    BASE_DIR,\n",
    "    target_size=IMG_SIZE,\n",
    "    batch_size=BATCH_SIZE,\n",
    "    class_mode=\"categorical\",\n",
    "    subset=\"training\" # Set for training data\n",
    ")"
   ]
  },
  {
   "cell_type": "code",
   "execution_count": 8,
   "metadata": {},
   "outputs": [
    {
     "name": "stdout",
     "output_type": "stream",
     "text": [
      "Found 612 images belonging to 3 classes.\n"
     ]
    }
   ],
   "source": [
    "val_gen = datagen.flow_from_directory(\n",
    "    BASE_DIR,\n",
    "    target_size=IMG_SIZE,\n",
    "    batch_size=BATCH_SIZE,\n",
    "    class_mode=\"categorical\",\n",
    "    subset=\"validation\" # Set for validation data\n",
    ")"
   ]
  },
  {
   "cell_type": "code",
   "execution_count": 9,
   "metadata": {},
   "outputs": [
    {
     "name": "stdout",
     "output_type": "stream",
     "text": [
      "Downloading data from https://storage.googleapis.com/tensorflow/keras-applications/resnet/resnet50_weights_tf_dim_ordering_tf_kernels_notop.h5\n",
      "\u001b[1m94765736/94765736\u001b[0m \u001b[32m━━━━━━━━━━━━━━━━━━━━\u001b[0m\u001b[37m\u001b[0m \u001b[1m29s\u001b[0m 0us/step\n"
     ]
    }
   ],
   "source": [
    "# Load Pre-trained ResNet50 Model (without the top layers)\n",
    "base_model = ResNet50(weights='imagenet', include_top=False, input_shape=(*IMG_SIZE, 3))"
   ]
  },
  {
   "cell_type": "code",
   "execution_count": 10,
   "metadata": {},
   "outputs": [],
   "source": [
    "# Freezing the convolutional base\n",
    "for layer in base_model.layers:\n",
    "    layer.trainable = False"
   ]
  },
  {
   "cell_type": "code",
   "execution_count": 11,
   "metadata": {},
   "outputs": [
    {
     "name": "stderr",
     "output_type": "stream",
     "text": [
      "2024-09-11 15:08:57.902651: W external/local_tsl/tsl/framework/cpu_allocator_impl.cc:83] Allocation of 268435456 exceeds 10% of free system memory.\n",
      "2024-09-11 15:08:58.234805: W external/local_tsl/tsl/framework/cpu_allocator_impl.cc:83] Allocation of 268435456 exceeds 10% of free system memory.\n",
      "2024-09-11 15:08:58.346535: W external/local_tsl/tsl/framework/cpu_allocator_impl.cc:83] Allocation of 268435456 exceeds 10% of free system memory.\n"
     ]
    }
   ],
   "source": [
    "# Adding new custom layers\n",
    "x = base_model.output\n",
    "x = Flatten()(x)\n",
    "x = Dense(512, activation=\"relu\")(x)\n",
    "x = Dropout(0.5)(x)\n",
    "output = Dense(3, activation=\"softmax\")(x) # 3 classes for glioma, meningioma, pituitary tumor"
   ]
  },
  {
   "cell_type": "code",
   "execution_count": 12,
   "metadata": {},
   "outputs": [],
   "source": [
    "model = Model(inputs=base_model.input, outputs=output)"
   ]
  },
  {
   "cell_type": "code",
   "execution_count": 13,
   "metadata": {},
   "outputs": [],
   "source": [
    "# Compile the model\n",
    "optimizer = Adam(learning_rate=0.001)\n",
    "model.compile(optimizer=optimizer, loss=\"categorical_crossentropy\", metrics=[\"accuracy\"])"
   ]
  },
  {
   "cell_type": "code",
   "execution_count": 14,
   "metadata": {},
   "outputs": [],
   "source": [
    "# Callbacks\n",
    "early_stopping = EarlyStopping(monitor='val_loss', patience=5, restore_best_weights=True)\n",
    "reduce_lr = ReduceLROnPlateau(monitor='val_loss', factor=0.2, patience=3, min_lr=1e-6)"
   ]
  },
  {
   "cell_type": "code",
   "execution_count": 15,
   "metadata": {},
   "outputs": [
    {
     "name": "stdout",
     "output_type": "stream",
     "text": [
      "Epoch 1/30\n"
     ]
    },
    {
     "name": "stderr",
     "output_type": "stream",
     "text": [
      "2024-09-11 15:11:39.999876: W external/local_tsl/tsl/framework/cpu_allocator_impl.cc:83] Allocation of 268435456 exceeds 10% of free system memory.\n",
      "/home/penzulo/.cache/pypoetry/virtualenvs/neurosight-li8zIHSD-py3.11/lib/python3.11/site-packages/keras/src/trainers/data_adapters/py_dataset_adapter.py:122: UserWarning: Your `PyDataset` class should call `super().__init__(**kwargs)` in its constructor. `**kwargs` can include `workers`, `use_multiprocessing`, `max_queue_size`. Do not pass these arguments to `fit()`, as they will be ignored.\n",
      "  self._warn_if_super_not_called()\n",
      "2024-09-11 15:11:52.968917: W external/local_tsl/tsl/framework/cpu_allocator_impl.cc:83] Allocation of 268435456 exceeds 10% of free system memory.\n"
     ]
    },
    {
     "name": "stdout",
     "output_type": "stream",
     "text": [
      "\u001b[1m154/154\u001b[0m \u001b[32m━━━━━━━━━━━━━━━━━━━━\u001b[0m\u001b[37m\u001b[0m \u001b[1m1011s\u001b[0m 6s/step - accuracy: 0.3935 - loss: 10.4024 - val_accuracy: 0.4657 - val_loss: 1.0854 - learning_rate: 0.0010\n",
      "Epoch 2/30\n",
      "\u001b[1m154/154\u001b[0m \u001b[32m━━━━━━━━━━━━━━━━━━━━\u001b[0m\u001b[37m\u001b[0m \u001b[1m919s\u001b[0m 6s/step - accuracy: 0.4713 - loss: 1.0807 - val_accuracy: 0.4657 - val_loss: 1.0711 - learning_rate: 0.0010\n",
      "Epoch 3/30\n",
      "\u001b[1m154/154\u001b[0m \u001b[32m━━━━━━━━━━━━━━━━━━━━\u001b[0m\u001b[37m\u001b[0m \u001b[1m897s\u001b[0m 6s/step - accuracy: 0.4563 - loss: 1.0728 - val_accuracy: 0.4657 - val_loss: 1.0637 - learning_rate: 0.0010\n",
      "Epoch 4/30\n",
      "\u001b[1m154/154\u001b[0m \u001b[32m━━━━━━━━━━━━━━━━━━━━\u001b[0m\u001b[37m\u001b[0m \u001b[1m849s\u001b[0m 5s/step - accuracy: 0.4615 - loss: 1.0623 - val_accuracy: 0.4657 - val_loss: 1.0597 - learning_rate: 0.0010\n",
      "Epoch 5/30\n",
      "\u001b[1m154/154\u001b[0m \u001b[32m━━━━━━━━━━━━━━━━━━━━\u001b[0m\u001b[37m\u001b[0m \u001b[1m889s\u001b[0m 6s/step - accuracy: 0.4787 - loss: 1.0541 - val_accuracy: 0.4657 - val_loss: 1.0578 - learning_rate: 0.0010\n",
      "Epoch 6/30\n",
      "\u001b[1m154/154\u001b[0m \u001b[32m━━━━━━━━━━━━━━━━━━━━\u001b[0m\u001b[37m\u001b[0m \u001b[1m831s\u001b[0m 5s/step - accuracy: 0.4523 - loss: 1.0624 - val_accuracy: 0.4657 - val_loss: 1.0569 - learning_rate: 0.0010\n",
      "Epoch 7/30\n",
      "\u001b[1m154/154\u001b[0m \u001b[32m━━━━━━━━━━━━━━━━━━━━\u001b[0m\u001b[37m\u001b[0m \u001b[1m883s\u001b[0m 6s/step - accuracy: 0.4674 - loss: 1.0569 - val_accuracy: 0.4657 - val_loss: 1.0564 - learning_rate: 0.0010\n",
      "Epoch 8/30\n",
      "\u001b[1m154/154\u001b[0m \u001b[32m━━━━━━━━━━━━━━━━━━━━\u001b[0m\u001b[37m\u001b[0m \u001b[1m970s\u001b[0m 6s/step - accuracy: 0.4800 - loss: 1.0840 - val_accuracy: 0.4657 - val_loss: 1.0562 - learning_rate: 0.0010\n",
      "Epoch 9/30\n",
      "\u001b[1m154/154\u001b[0m \u001b[32m━━━━━━━━━━━━━━━━━━━━\u001b[0m\u001b[37m\u001b[0m \u001b[1m958s\u001b[0m 6s/step - accuracy: 0.4712 - loss: 1.0532 - val_accuracy: 0.4657 - val_loss: 1.0562 - learning_rate: 0.0010\n",
      "Epoch 10/30\n",
      "\u001b[1m154/154\u001b[0m \u001b[32m━━━━━━━━━━━━━━━━━━━━\u001b[0m\u001b[37m\u001b[0m \u001b[1m959s\u001b[0m 6s/step - accuracy: 0.4662 - loss: 1.0552 - val_accuracy: 0.4657 - val_loss: 1.0561 - learning_rate: 0.0010\n",
      "Epoch 11/30\n",
      "\u001b[1m154/154\u001b[0m \u001b[32m━━━━━━━━━━━━━━━━━━━━\u001b[0m\u001b[37m\u001b[0m \u001b[1m954s\u001b[0m 6s/step - accuracy: 0.4582 - loss: 1.0579 - val_accuracy: 0.4657 - val_loss: 1.0561 - learning_rate: 0.0010\n",
      "Epoch 12/30\n",
      "\u001b[1m154/154\u001b[0m \u001b[32m━━━━━━━━━━━━━━━━━━━━\u001b[0m\u001b[37m\u001b[0m \u001b[1m899s\u001b[0m 6s/step - accuracy: 0.4747 - loss: 1.0510 - val_accuracy: 0.4657 - val_loss: 1.0561 - learning_rate: 2.0000e-04\n",
      "Epoch 13/30\n",
      "\u001b[1m154/154\u001b[0m \u001b[32m━━━━━━━━━━━━━━━━━━━━\u001b[0m\u001b[37m\u001b[0m \u001b[1m935s\u001b[0m 6s/step - accuracy: 0.4696 - loss: 1.0519 - val_accuracy: 0.4657 - val_loss: 1.0561 - learning_rate: 2.0000e-04\n",
      "Epoch 14/30\n",
      "\u001b[1m154/154\u001b[0m \u001b[32m━━━━━━━━━━━━━━━━━━━━\u001b[0m\u001b[37m\u001b[0m \u001b[1m948s\u001b[0m 6s/step - accuracy: 0.4538 - loss: 1.0640 - val_accuracy: 0.4657 - val_loss: 1.0561 - learning_rate: 2.0000e-04\n",
      "Epoch 15/30\n",
      "\u001b[1m154/154\u001b[0m \u001b[32m━━━━━━━━━━━━━━━━━━━━\u001b[0m\u001b[37m\u001b[0m \u001b[1m922s\u001b[0m 6s/step - accuracy: 0.4680 - loss: 1.0529 - val_accuracy: 0.4657 - val_loss: 1.0561 - learning_rate: 4.0000e-05\n",
      "Epoch 16/30\n",
      "\u001b[1m154/154\u001b[0m \u001b[32m━━━━━━━━━━━━━━━━━━━━\u001b[0m\u001b[37m\u001b[0m \u001b[1m818s\u001b[0m 5s/step - accuracy: 0.4753 - loss: 1.0500 - val_accuracy: 0.4657 - val_loss: 1.0561 - learning_rate: 4.0000e-05\n",
      "Epoch 17/30\n",
      "\u001b[1m154/154\u001b[0m \u001b[32m━━━━━━━━━━━━━━━━━━━━\u001b[0m\u001b[37m\u001b[0m \u001b[1m861s\u001b[0m 5s/step - accuracy: 0.4560 - loss: 1.0607 - val_accuracy: 0.4657 - val_loss: 1.0561 - learning_rate: 4.0000e-05\n",
      "Epoch 18/30\n",
      "\u001b[1m154/154\u001b[0m \u001b[32m━━━━━━━━━━━━━━━━━━━━\u001b[0m\u001b[37m\u001b[0m \u001b[1m819s\u001b[0m 5s/step - accuracy: 0.4680 - loss: 1.0547 - val_accuracy: 0.4657 - val_loss: 1.0561 - learning_rate: 4.0000e-05\n",
      "Epoch 19/30\n",
      "\u001b[1m154/154\u001b[0m \u001b[32m━━━━━━━━━━━━━━━━━━━━\u001b[0m\u001b[37m\u001b[0m \u001b[1m821s\u001b[0m 5s/step - accuracy: 0.4741 - loss: 1.0509 - val_accuracy: 0.4657 - val_loss: 1.0561 - learning_rate: 8.0000e-06\n",
      "Epoch 20/30\n",
      "\u001b[1m154/154\u001b[0m \u001b[32m━━━━━━━━━━━━━━━━━━━━\u001b[0m\u001b[37m\u001b[0m \u001b[1m859s\u001b[0m 6s/step - accuracy: 0.4769 - loss: 1.0503 - val_accuracy: 0.4657 - val_loss: 1.0561 - learning_rate: 8.0000e-06\n",
      "Epoch 21/30\n",
      "\u001b[1m154/154\u001b[0m \u001b[32m━━━━━━━━━━━━━━━━━━━━\u001b[0m\u001b[37m\u001b[0m \u001b[1m814s\u001b[0m 5s/step - accuracy: 0.4752 - loss: 1.0542 - val_accuracy: 0.4657 - val_loss: 1.0561 - learning_rate: 8.0000e-06\n",
      "Epoch 22/30\n",
      "\u001b[1m154/154\u001b[0m \u001b[32m━━━━━━━━━━━━━━━━━━━━\u001b[0m\u001b[37m\u001b[0m \u001b[1m815s\u001b[0m 5s/step - accuracy: 0.4670 - loss: 1.0567 - val_accuracy: 0.4657 - val_loss: 1.0561 - learning_rate: 1.6000e-06\n",
      "Epoch 23/30\n",
      "\u001b[1m154/154\u001b[0m \u001b[32m━━━━━━━━━━━━━━━━━━━━\u001b[0m\u001b[37m\u001b[0m \u001b[1m819s\u001b[0m 5s/step - accuracy: 0.4567 - loss: 1.0606 - val_accuracy: 0.4657 - val_loss: 1.0561 - learning_rate: 1.6000e-06\n",
      "Epoch 24/30\n",
      "\u001b[1m154/154\u001b[0m \u001b[32m━━━━━━━━━━━━━━━━━━━━\u001b[0m\u001b[37m\u001b[0m \u001b[1m859s\u001b[0m 5s/step - accuracy: 0.4582 - loss: 1.0610 - val_accuracy: 0.4657 - val_loss: 1.0561 - learning_rate: 1.6000e-06\n",
      "Epoch 25/30\n",
      "\u001b[1m154/154\u001b[0m \u001b[32m━━━━━━━━━━━━━━━━━━━━\u001b[0m\u001b[37m\u001b[0m \u001b[1m819s\u001b[0m 5s/step - accuracy: 0.4711 - loss: 1.0526 - val_accuracy: 0.4657 - val_loss: 1.0561 - learning_rate: 1.0000e-06\n",
      "Epoch 26/30\n",
      "\u001b[1m154/154\u001b[0m \u001b[32m━━━━━━━━━━━━━━━━━━━━\u001b[0m\u001b[37m\u001b[0m \u001b[1m814s\u001b[0m 5s/step - accuracy: 0.4422 - loss: 1.0703 - val_accuracy: 0.4657 - val_loss: 1.0561 - learning_rate: 1.0000e-06\n",
      "Epoch 27/30\n",
      "\u001b[1m154/154\u001b[0m \u001b[32m━━━━━━━━━━━━━━━━━━━━\u001b[0m\u001b[37m\u001b[0m \u001b[1m816s\u001b[0m 5s/step - accuracy: 0.4716 - loss: 1.0529 - val_accuracy: 0.4657 - val_loss: 1.0561 - learning_rate: 1.0000e-06\n",
      "Epoch 28/30\n",
      "\u001b[1m154/154\u001b[0m \u001b[32m━━━━━━━━━━━━━━━━━━━━\u001b[0m\u001b[37m\u001b[0m \u001b[1m816s\u001b[0m 5s/step - accuracy: 0.4567 - loss: 1.0634 - val_accuracy: 0.4657 - val_loss: 1.0561 - learning_rate: 1.0000e-06\n",
      "Epoch 29/30\n",
      "\u001b[1m154/154\u001b[0m \u001b[32m━━━━━━━━━━━━━━━━━━━━\u001b[0m\u001b[37m\u001b[0m \u001b[1m814s\u001b[0m 5s/step - accuracy: 0.4746 - loss: 1.0489 - val_accuracy: 0.4657 - val_loss: 1.0561 - learning_rate: 1.0000e-06\n",
      "Epoch 30/30\n",
      "\u001b[1m154/154\u001b[0m \u001b[32m━━━━━━━━━━━━━━━━━━━━\u001b[0m\u001b[37m\u001b[0m \u001b[1m864s\u001b[0m 6s/step - accuracy: 0.4645 - loss: 1.0554 - val_accuracy: 0.4657 - val_loss: 1.0561 - learning_rate: 1.0000e-06\n"
     ]
    }
   ],
   "source": [
    "# Train the model\n",
    "history = model.fit(\n",
    "    train_gen,\n",
    "    epochs=EPOCHS,\n",
    "    validation_data=val_gen,\n",
    "    callbacks=[early_stopping, reduce_lr],\n",
    "    verbose=1\n",
    ")"
   ]
  },
  {
   "cell_type": "code",
   "execution_count": 17,
   "metadata": {},
   "outputs": [],
   "source": [
    "model.save(\"brain_tumor_classifier.keras\")"
   ]
  },
  {
   "cell_type": "code",
   "execution_count": 20,
   "metadata": {},
   "outputs": [
    {
     "name": "stdout",
     "output_type": "stream",
     "text": [
      "\u001b[1m39/39\u001b[0m \u001b[32m━━━━━━━━━━━━━━━━━━━━\u001b[0m\u001b[37m\u001b[0m \u001b[1m141s\u001b[0m 4s/step - accuracy: 0.4844 - loss: 1.0472\n"
     ]
    }
   ],
   "source": [
    "val_loss, val_accuracy = model.evaluate(val_gen)"
   ]
  },
  {
   "cell_type": "code",
   "execution_count": 21,
   "metadata": {},
   "outputs": [
    {
     "name": "stdout",
     "output_type": "stream",
     "text": [
      "Validation Accuracy: 46.57%\n"
     ]
    }
   ],
   "source": [
    "print(f\"Validation Accuracy: {val_accuracy * 100:.2f}%\")"
   ]
  },
  {
   "cell_type": "code",
   "execution_count": null,
   "metadata": {},
   "outputs": [],
   "source": []
  }
 ],
 "metadata": {
  "kernelspec": {
   "display_name": "neurosight-li8zIHSD-py3.11",
   "language": "python",
   "name": "python3"
  },
  "language_info": {
   "codemirror_mode": {
    "name": "ipython",
    "version": 3
   },
   "file_extension": ".py",
   "mimetype": "text/x-python",
   "name": "python",
   "nbconvert_exporter": "python",
   "pygments_lexer": "ipython3",
   "version": "3.11.2"
  }
 },
 "nbformat": 4,
 "nbformat_minor": 2
}
